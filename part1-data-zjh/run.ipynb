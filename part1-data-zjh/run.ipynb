{
 "cells": [
  {
   "cell_type": "code",
   "execution_count": null,
   "metadata": {},
   "outputs": [
    {
     "ename": "",
     "evalue": "",
     "output_type": "error",
     "traceback": [
      "\u001b[1;31mPython 3.8.9 64-bit 需要安装 ipykernel。\n",
      "Run the following command to install 'ipykernel' into the Python environment. \n",
      "Command: '/usr/bin/python3 -m pip install ipykernel -U --user --force-reinstall'"
     ]
    }
   ],
   "source": [
    "from audioop import avg\n",
    "import numpy as np\n",
    "import matplotlib.pyplot as plt\n",
    "\n",
    "def read(filename):\n",
    "    f = open(filename)\n",
    "    x1, x2, x3 , l1, l2 ,l3 = [], [], [], [], [], []\n",
    "    for i, lines in enumerate(f.readlines()):\n",
    "        if i >= 1 and i <= 16:\n",
    "            l1.append(float(lines.split()[-6])/1000)\n",
    "            x1.append(float(lines.split()[-2]))\n",
    "        elif i >= 20 and i<=35:\n",
    "            l2.append(float(lines.split()[-6])/1000)\n",
    "            x2.append(float(lines.split()[-2]))\n",
    "        elif i >= 39 and i<=54:\n",
    "            l3.append(float(lines.split()[-6])/1000)\n",
    "            x3.append(float(lines.split()[-2]))\n",
    "    x_avg = [sum(x)/3 for x in zip(x1,x2,x3)]   \n",
    "    x_std = [np.std(x) for x in zip(x1,x2,x3)]   \n",
    "    l_avg = [sum(x)/3 for x in zip(l1,l2,l3)]\n",
    "    l_std = [np.std(x) for x in zip(l1,l2,l3)]\n",
    "    return l_avg, l_std, x_avg, x_std"
   ]
  },
  {
   "cell_type": "code",
   "execution_count": null,
   "metadata": {},
   "outputs": [],
   "source": [
    "\n",
    "rawy_avg, rawy_std, rawx_avg, rawx_std = read(\"raw.txt\")\n",
    "cpuy_avg, cpuy_std, cpux_avg, cpux_std = read(\"cpu.txt\")\n",
    "l1dy_avg, l1dy_std, l1dx_avg, l1dx_std = read(\"l1d.txt\")\n",
    "l1iy_avg, l1iy_std, l1ix_avg, l1ix_std = read(\"l1i.txt\")\n",
    "l2y_avg, l2y_std, l2x_avg, l2x_std = read(\"l2.txt\")\n",
    "llcy_avg, llcy_std, llcx_avg, llcx_std = read(\"llc.txt\")\n",
    "memy_avg, memy_std, memx_avg, memx_std = read(\"membw.txt\")"
   ]
  },
  {
   "cell_type": "code",
   "execution_count": null,
   "metadata": {},
   "outputs": [],
   "source": [
    "fig = plt.figure()\n",
    "plt.errorbar(rawx_avg, rawy_avg, xerr=rawx_std, yerr=rawy_std,fmt = 'o',marker = '.',capsize=3,capthick=1, label='raw')\n",
    "plt.errorbar(cpux_avg, cpuy_avg, xerr=cpux_std, yerr=rawy_std,fmt = 'o',marker = '.',capsize=3,capthick=1, label='cpu')\n",
    "plt.errorbar(l1dx_avg, l1dy_avg, xerr=l1dx_std, yerr=l1dy_std,fmt = 'o',marker = '.',capsize=3,capthick=1, label='l1d')\n",
    "plt.errorbar(l1ix_avg, l1iy_avg, xerr=l1ix_std, yerr=l1iy_std,fmt = 'o',marker = '.',capsize=3,capthick=1, label='l1i')\n",
    "plt.errorbar(l2x_avg, l2y_avg, xerr=l2x_std, yerr=l2y_std,fmt = 'o',marker = '.',capsize=3,capthick=1, label='l2')\n",
    "plt.errorbar(llcx_avg, llcy_avg, xerr=llcx_std, yerr=llcy_std,fmt = 'o',marker = '.',capsize=3,capthick=1, label='llc')\n",
    "plt.errorbar(memx_avg, memy_avg, xerr=memx_std, yerr=memy_std,fmt = 'o',marker = '.',capsize=3,capthick=1, label='membw')\n",
    "plt.legend(loc='upper left')\n",
    "plt.grid()\n",
    "plt.show()"
   ]
  }
 ],
 "metadata": {
  "interpreter": {
   "hash": "31f2aee4e71d21fbe5cf8b01ff0e069b9275f58929596ceb00d14d90e3e16cd6"
  },
  "kernelspec": {
   "display_name": "Python 3.8.9 64-bit",
   "language": "python",
   "name": "python3"
  },
  "language_info": {
   "name": "python",
   "version": "3.8.9"
  },
  "orig_nbformat": 4
 },
 "nbformat": 4,
 "nbformat_minor": 2
}
